{
 "cells": [
  {
   "cell_type": "code",
   "execution_count": 1,
   "metadata": {
    "collapsed": false
   },
   "outputs": [],
   "source": [
    "\n",
    "using PyCall\n",
    "using Requests\n",
    "@pyimport bs4 #need BeautifulSoup\n",
    "using DataFrames\n",
    "\n"
   ]
  },
  {
   "cell_type": "code",
   "execution_count": 2,
   "metadata": {
    "collapsed": false
   },
   "outputs": [
    {
     "data": {
      "text/plain": [
       "__anon__"
      ]
     },
     "execution_count": 2,
     "metadata": {},
     "output_type": "execute_result"
    }
   ],
   "source": [
    "\n",
    "html = Requests.text(get(\"https://en.wikipedia.org/wiki/List_of_countries_and_dependencies_by_population\"))\n",
    "tabela = \"List_of_countries_and_dependencies_by_population\"\n",
    "soup = bs4.BeautifulSoup(html, \"lxml\");\n",
    "\n",
    "\n",
    "soup2 = pywrap(soup)\n"
   ]
  },
  {
   "cell_type": "code",
   "execution_count": 6,
   "metadata": {
    "collapsed": false
   },
   "outputs": [
    {
     "name": "stdout",
     "output_type": "stream",
     "text": [
      "250×6 DataFrames.DataFrame\n",
      "│ Row │ Rank  │ Country (or dependent territory)                     │\n",
      "├─────┼───────┼──────────────────────────────────────────────────────┤\n",
      "│ 1   │ \"1\"   │ \"China[Note 2]\"                                      │\n",
      "│ 2   │ \"2\"   │ \"India\"                                              │\n",
      "│ 3   │ \"3\"   │ \"United States[Note 3]\"                              │\n",
      "│ 4   │ \"4\"   │ \"Indonesia\"                                          │\n",
      "│ 5   │ \"5\"   │ \"Brazil\"                                             │\n",
      "│ 6   │ \"6\"   │ \"Pakistan\"                                           │\n",
      "│ 7   │ \"7\"   │ \"Nigeria\"                                            │\n",
      "│ 8   │ \"8\"   │ \"Bangladesh\"                                         │\n",
      "│ 9   │ \"9\"   │ \"Russia[Note 4]\"                                     │\n",
      "│ 10  │ \"10\"  │ \"Mexico\"                                             │\n",
      "│ 11  │ \"11\"  │ \"Japan\"                                              │\n",
      "⋮\n",
      "│ 239 │ \"--\"  │ \"Montserrat (UK)\"                                    │\n",
      "│ 240 │ \"--\"  │ \" Saint Helena, Ascension and Tristan da Cunha (UK)\" │\n",
      "│ 241 │ \"--\"  │ \" Sint Eustatius (Netherlands)\"                      │\n",
      "│ 242 │ \"--\"  │ \"Falkland Islands (UK)\"                              │\n",
      "│ 243 │ \"--\"  │ \"Norfolk Island (Australia)\"                         │\n",
      "│ 244 │ \"--\"  │ \"Christmas Island (Australia)\"                       │\n",
      "│ 245 │ \"--\"  │ \" Saba (Netherlands)\"                                │\n",
      "│ 246 │ \"--\"  │ \"Niue\"                                               │\n",
      "│ 247 │ \"--\"  │ \"Tokelau (NZ)\"                                       │\n",
      "│ 248 │ \"195\" │ \"Vatican City\"                                       │\n",
      "│ 249 │ \"--\"  │ \"Cocos (Keeling) Islands (Australia)\"                │\n",
      "│ 250 │ \"--\"  │ \"Pitcairn Islands (UK)\"                              │\n",
      "\n",
      "│ Row │ Population      │ Date                 │ % of world\n",
      "population │\n",
      "├─────┼─────────────────┼──────────────────────┼───────────────────────┤\n",
      "│ 1   │ \"1,378,730,000\" │ \"September 13, 2016\" │ \"18.8%\"               │\n",
      "│ 2   │ \"1,330,940,000\" │ \"September 13, 2016\" │ \"18.1%\"               │\n",
      "│ 3   │ \"324,468,000\"   │ \"September 13, 2016\" │ \"4.42%\"               │\n",
      "│ 4   │ \"260,581,000\"   │ \"July 1, 2016\"       │ \"3.55%\"               │\n",
      "│ 5   │ \"206,649,000\"   │ \"September 13, 2016\" │ \"2.81%\"               │\n",
      "│ 6   │ \"194,242,000\"   │ \"September 13, 2016\" │ \"2.64%\"               │\n",
      "│ 7   │ \"186,988,000\"   │ \"July 1, 2016\"       │ \"2.54%\"               │\n",
      "│ 8   │ \"161,075,000\"   │ \"September 13, 2016\" │ \"2.19%\"               │\n",
      "│ 9   │ \"146,654,366\"   │ \"July 1, 2016\"       │ \"2%\"                  │\n",
      "│ 10  │ \"128,632,000\"   │ \"July 1, 2016\"       │ \"1.75%\"               │\n",
      "│ 11  │ \"127,000,000\"   │ \"August 1, 2016\"     │ \"1.73%\"               │\n",
      "⋮\n",
      "│ 239 │ \"4,922\"         │ \"May 12, 2011\"       │ \"0.000067%\"           │\n",
      "│ 240 │ \"4,255\"         │ \"February 10, 2008\"  │ \"0.000058%\"           │\n",
      "│ 241 │ \"3,877\"         │ \"January 1, 2015\"    │ \"0.000053%\"           │\n",
      "│ 242 │ \"2,563\"         │ \"April 15, 2012\"     │ \"0.000035%\"           │\n",
      "│ 243 │ \"2,302\"         │ \"August 9, 2011\"     │ \"0.000031%\"           │\n",
      "│ 244 │ \"2,072\"         │ \"August 9, 2011\"     │ \"0.000028%\"           │\n",
      "│ 245 │ \"1,811\"         │ \"January 1, 2015\"    │ \"0.000025%\"           │\n",
      "│ 246 │ \"1,470\"         │ \"July 1, 2015\"       │ \"0.000020%\"           │\n",
      "│ 247 │ \"1,411\"         │ \"October 18, 2011\"   │ \"0.000019%\"           │\n",
      "│ 248 │ \"842\"           │ \"January 1, 2014\"    │ \"0.000011%\"           │\n",
      "│ 249 │ \"550\"           │ \"August 9, 2011\"     │ \"0.0000075%\"          │\n",
      "│ 250 │ \"56\"            │ \"July 1, 2014\"       │ \"0.00000076%\"         │\n",
      "\n",
      "│ Row │ Source                         │\n",
      "├─────┼────────────────────────────────┤\n",
      "│ 1   │ \"Official population clock\"    │\n",
      "│ 2   │ \"Official population clock\"    │\n",
      "│ 3   │ \"Official population clock\"    │\n",
      "│ 4   │ \"Official projection\"          │\n",
      "│ 5   │ \"Official population clock\"    │\n",
      "│ 6   │ \"Official population clock\"    │\n",
      "│ 7   │ \"UN Projection\"                │\n",
      "│ 8   │ \"Official population clock\"    │\n",
      "│ 9   │ \"Official estimate\"            │\n",
      "│ 10  │ \"Official projection\"          │\n",
      "│ 11  │ \"Monthly provisional estimate\" │\n",
      "⋮\n",
      "│ 239 │ \"2011 census result\"           │\n",
      "│ 240 │ \"2008 census result\"           │\n",
      "│ 241 │ \"Official estimate\"            │\n",
      "│ 242 │ \"2012 census result\"           │\n",
      "│ 243 │ \"2011 census result\"           │\n",
      "│ 244 │ \"2011 census result\"           │\n",
      "│ 245 │ \"Official estimate\"            │\n",
      "│ 246 │ \"Annual official estimate\"     │\n",
      "│ 247 │ \"2011 census result\"           │\n",
      "│ 248 │ \"Official estimate\"            │\n",
      "│ 249 │ \"2011 census result\"           │\n",
      "│ 250 │ \"Official estimate\"            │"
     ]
    },
    {
     "data": {
      "text/plain": [
       "6-element Array{Symbol,1}:\n",
       " :Rank                                     \n",
       " symbol(\"Country (or dependent territory)\")\n",
       " :Population                               \n",
       " :Date                                     \n",
       " symbol(\"% of world\\npopulation\")          \n",
       " :Source                                   "
      ]
     },
     "execution_count": 6,
     "metadata": {},
     "output_type": "execute_result"
    }
   ],
   "source": [
    "\n",
    "num = 0\n",
    "df = DataFrame()\n",
    "head = []\n",
    "test = []\n",
    "for table in soup2.find_all(\"table\", Dict( \"class\" => \"wikitable sortable\"))\n",
    "    df = DataFrame()\n",
    "    head =[]\n",
    "    for col_names in table[:find_all](\"th\")\n",
    "        push!(head,col_names[:text])\n",
    "       df[symbol(col_names[:text])] = []\n",
    "    end\n",
    "    for row in table[:find_all](\"tr\")\n",
    "        cells = row[:find_all](\"td\")\n",
    "        if  length(cells) === length(head)\n",
    "            row_add = []\n",
    "            i= 1\n",
    "            for cell in cells\n",
    "                #print(cell[:find](\"\"))\n",
    "                test = cell\n",
    "                push!(df[i], cell[:text])\n",
    "                i = i + 1\n",
    "            end\n",
    "        end\n",
    "    end\n",
    "    print(df)\n",
    "    \n",
    "    writetable(string(tabela,num,\".csv\"),df)\n",
    "    num = num + 1\n",
    "end\n",
    "names(df)"
   ]
  },
  {
   "cell_type": "code",
   "execution_count": 75,
   "metadata": {
    "collapsed": false
   },
   "outputs": [
    {
     "name": "stdout",
     "output_type": "stream",
     "text": [
      "PyObject <td style=\"text-align:left;\"><a href=\"/wiki/Pitcairn_Islands#Historical_population\" title=\"Pitcairn Islands\">Official estimate</a></td>aaa    nothing\n"
     ]
    }
   ],
   "source": [
    "print(test)\n",
    "z =  test[:find_all](\"href\")\n",
    "println(string(\"aaa    \",test[:find](\"href\")))"
   ]
  },
  {
   "cell_type": "code",
   "execution_count": 94,
   "metadata": {
    "collapsed": false
   },
   "outputs": [
    {
     "name": "stdout",
     "output_type": "stream",
     "text": [
      "nothing"
     ]
    }
   ],
   "source": [
    "print(test[:get](\"href\"))"
   ]
  },
  {
   "cell_type": "code",
   "execution_count": null,
   "metadata": {
    "collapsed": true
   },
   "outputs": [],
   "source": [
    "using PyPlot\n"
   ]
  },
  {
   "cell_type": "code",
   "execution_count": null,
   "metadata": {
    "collapsed": false
   },
   "outputs": [],
   "source": [
    "names(df)"
   ]
  },
  {
   "cell_type": "code",
   "execution_count": null,
   "metadata": {
    "collapsed": false
   },
   "outputs": [],
   "source": [
    "df[3] = map(x-> replace(x,\",\",\"\"),df[3])\n",
    "df[3] = map(x-> parse(Int64,x),df[3])\n"
   ]
  },
  {
   "cell_type": "code",
   "execution_count": null,
   "metadata": {
    "collapsed": false
   },
   "outputs": [],
   "source": [
    "p = pie(df[3],labels= df[2],startangle=90,autopct=\"%1.1f%%\")"
   ]
  }
 ],
 "metadata": {
  "kernelspec": {
   "display_name": "Julia 0.4.6",
   "language": "julia",
   "name": "julia-0.4"
  },
  "language_info": {
   "file_extension": ".jl",
   "mimetype": "application/julia",
   "name": "julia",
   "version": "0.4.6"
  }
 },
 "nbformat": 4,
 "nbformat_minor": 1
}
