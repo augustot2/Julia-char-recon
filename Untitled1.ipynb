{
 "cells": [
  {
   "cell_type": "code",
   "execution_count": 1,
   "metadata": {
    "collapsed": false
   },
   "outputs": [],
   "source": [
    "using Gumbo\n",
    "using Requests"
   ]
  },
  {
   "cell_type": "code",
   "execution_count": 21,
   "metadata": {
    "collapsed": false
   },
   "outputs": [],
   "source": [
    "\n",
    "html = Requests.text(get(\"https://pt.wikipedia.org/wiki/%C3%93scar\"));\n"
   ]
  },
  {
   "cell_type": "code",
   "execution_count": 24,
   "metadata": {
    "collapsed": false
   },
   "outputs": [],
   "source": [
    "doc = parsehtml(html);"
   ]
  },
  {
   "cell_type": "code",
   "execution_count": 27,
   "metadata": {
    "collapsed": false
   },
   "outputs": [
    {
     "name": "stdout",
     "output_type": "stream",
     "text": [
      "HTML\n",
      "head\n",
      "body\n",
      "meta\n",
      "title\n",
      "script\n",
      "script\n",
      "link\n",
      "script\n",
      "meta\n",
      "link\n",
      "meta\n",
      "meta\n",
      "link\n",
      "link\n",
      "link\n",
      "link\n",
      "link\n",
      "link\n",
      "link\n",
      "link\n",
      "link\n",
      "link\n",
      "link\n",
      "div\n",
      "div\n",
      "div\n",
      "div\n",
      "div\n",
      "script\n",
      "script\n",
      "script\n"
     ]
    },
    {
     "ename": "LoadError",
     "evalue": "LoadError: MethodError: `tag` has no method matching tag(::Gumbo.HTMLText)\nwhile loading In[27], in expression starting on line 1",
     "output_type": "error",
     "traceback": [
      "LoadError: MethodError: `tag` has no method matching tag(::Gumbo.HTMLText)\nwhile loading In[27], in expression starting on line 1",
      "",
      " [inlined code] from In[27]:2",
      " in anonymous at no file:0"
     ]
    }
   ],
   "source": [
    " for elem in breadthfirst(doc.root)\n",
    "                println(tag(elem))\n",
    "              end"
   ]
  },
  {
   "cell_type": "code",
   "execution_count": null,
   "metadata": {
    "collapsed": true
   },
   "outputs": [],
   "source": []
  },
  {
   "cell_type": "code",
   "execution_count": null,
   "metadata": {
    "collapsed": true
   },
   "outputs": [],
   "source": []
  },
  {
   "cell_type": "code",
   "execution_count": null,
   "metadata": {
    "collapsed": true
   },
   "outputs": [],
   "source": []
  },
  {
   "cell_type": "code",
   "execution_count": null,
   "metadata": {
    "collapsed": true
   },
   "outputs": [],
   "source": []
  },
  {
   "cell_type": "code",
   "execution_count": null,
   "metadata": {
    "collapsed": true
   },
   "outputs": [],
   "source": []
  }
 ],
 "metadata": {
  "kernelspec": {
   "display_name": "Julia 0.4.6",
   "language": "julia",
   "name": "julia-0.4"
  },
  "language_info": {
   "file_extension": ".jl",
   "mimetype": "application/julia",
   "name": "julia",
   "version": "0.4.6"
  }
 },
 "nbformat": 4,
 "nbformat_minor": 1
}
