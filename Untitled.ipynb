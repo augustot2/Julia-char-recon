{
 "cells": [
  {
   "cell_type": "code",
   "execution_count": 9,
   "metadata": {
    "collapsed": true
   },
   "outputs": [],
   "source": [
    "using PyCall\n",
    "using Requests"
   ]
  },
  {
   "cell_type": "code",
   "execution_count": 10,
   "metadata": {
    "collapsed": false
   },
   "outputs": [],
   "source": [
    "@pyimport bs4\n",
    "@pyimport urllib"
   ]
  },
  {
   "cell_type": "code",
   "execution_count": 31,
   "metadata": {
    "collapsed": false
   },
   "outputs": [
    {
     "ename": "LoadError",
     "evalue": "LoadError: syntax: extra token \"urllib\" after end of expression\nwhile loading In[31], in expression starting on line 2",
     "output_type": "error",
     "traceback": [
      "LoadError: syntax: extra token \"urllib\" after end of expression\nwhile loading In[31], in expression starting on line 2",
      ""
     ]
    }
   ],
   "source": []
  },
  {
   "cell_type": "code",
   "execution_count": 28,
   "metadata": {
    "collapsed": false
   },
   "outputs": [
    {
     "ename": "LoadError",
     "evalue": "LoadError: PyError (:PyObject_Call) <type 'exceptions.TypeError'>\nTypeError(\"object of type 'PyCall.jl_Function' has no len()\",)\n  File \"/usr/lib/python2.7/dist-packages/bs4/__init__.py\", line 176, in __init__\n    elif len(markup) <= 256:\n\nwhile loading In[28], in expression starting on line 1",
     "output_type": "error",
     "traceback": [
      "LoadError: PyError (:PyObject_Call) <type 'exceptions.TypeError'>\nTypeError(\"object of type 'PyCall.jl_Function' has no len()\",)\n  File \"/usr/lib/python2.7/dist-packages/bs4/__init__.py\", line 176, in __init__\n    elif len(markup) <= 256:\n\nwhile loading In[28], in expression starting on line 1",
      "",
      " [inlined code] from /home/augusto/.julia/v0.4/PyCall/src/exception.jl:81",
      " in pycall at /home/augusto/.julia/v0.4/PyCall/src/PyCall.jl:549",
      " in call at /home/augusto/.julia/v0.4/PyCall/src/PyCall.jl:564"
     ]
    }
   ],
   "source": [
    "soup = bs4.BeautifulSoup(ht)"
   ]
  },
  {
   "cell_type": "code",
   "execution_count": 19,
   "metadata": {
    "collapsed": false
   },
   "outputs": [
    {
     "ename": "LoadError",
     "evalue": "LoadError: type PyObject has no field findall\nwhile loading In[19], in expression starting on line 1",
     "output_type": "error",
     "traceback": [
      "LoadError: type PyObject has no field findall\nwhile loading In[19], in expression starting on line 1",
      ""
     ]
    }
   ],
   "source": [
    "soup.findall(\"a\")"
   ]
  },
  {
   "cell_type": "code",
   "execution_count": null,
   "metadata": {
    "collapsed": true
   },
   "outputs": [],
   "source": []
  },
  {
   "cell_type": "code",
   "execution_count": null,
   "metadata": {
    "collapsed": true
   },
   "outputs": [],
   "source": []
  },
  {
   "cell_type": "code",
   "execution_count": null,
   "metadata": {
    "collapsed": true
   },
   "outputs": [],
   "source": []
  }
 ],
 "metadata": {
  "kernelspec": {
   "display_name": "Julia 0.4.6",
   "language": "julia",
   "name": "julia-0.4"
  },
  "language_info": {
   "file_extension": ".jl",
   "mimetype": "application/julia",
   "name": "julia",
   "version": "0.4.6"
  }
 },
 "nbformat": 4,
 "nbformat_minor": 1
}
